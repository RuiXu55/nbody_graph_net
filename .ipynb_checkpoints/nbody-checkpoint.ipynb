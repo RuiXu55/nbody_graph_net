{
 "cells": [
  {
   "cell_type": "markdown",
   "metadata": {},
   "source": [
    "## N-body graph networks for Peter W. Battaglia et. al, 2016"
   ]
  },
  {
   "cell_type": "code",
   "execution_count": 1,
   "metadata": {},
   "outputs": [],
   "source": [
    "import warnings\n",
    "import math, copy\n",
    "import numpy as np\n",
    "import tensorflow as tf\n",
    "import matplotlib.pyplot as plt\n",
    "from sklearn.model_selection import train_test_split\n",
    "%matplotlib inline\n",
    "warnings.filterwarnings(\"ignore\")"
   ]
  },
  {
   "cell_type": "code",
   "execution_count": 2,
   "metadata": {},
   "outputs": [],
   "source": [
    "# Simulation parameters\n",
    "Nt = 1000 #  number of time steps\n",
    "Nf = 5 # number of features [mass,x,y,x_vel,y_vel]\n",
    "G = 1 # gravitational constaNt\n",
    "Dt = 0.01 # time step\n",
    "\n",
    "# Graph network parameters\n",
    "Ds = 5 # the state dimension\n",
    "No = 6 # the number of objects\n",
    "Nr = No*(No-1) # the number of relations\n",
    "Dr = 1 # the relationship dimension\n",
    "Dx = 1 # the external effect dimension\n",
    "De = 50 # the effect dimension\n",
    "Dp = 2 # the object modeling output dimension\n",
    "Da = 1 # the abstract modeling output dimension"
   ]
  },
  {
   "cell_type": "code",
   "execution_count": 3,
   "metadata": {},
   "outputs": [],
   "source": [
    "# Nbody Simulation System\n",
    "\n",
    "def cal_force(reciever,sender):\n",
    "    \"\"\" calculate force between two objects\n",
    "    \"\"\"\n",
    "    diff = sender[1:3]-reciever[1:3]\n",
    "    dist = np.sqrt(np.sum(diff**2))\n",
    "    return G*reciever[0]*sender[0]/(max(0.1, dist)**3)*diff\n",
    " \n",
    "def next_step(cur_state,n_body):\n",
    "    \"\"\" update positions & velocities after Dt\n",
    "    \"\"\"\n",
    "    next_state = np.zeros((n_body,Nf),dtype=float)\n",
    "    for i in range(n_body):\n",
    "        force = 0.0\n",
    "        for j in range(n_body):\n",
    "            if j==i: continue\n",
    "            force += cal_force(cur_state[i],cur_state[j]) \n",
    "        acc = force/cur_state[i][0]\n",
    "        next_state[i][0] = cur_state[i][0];\n",
    "        next_state[i][3:5] = cur_state[i][3:5]+acc*Dt;\n",
    "        next_state[i][1:3] = cur_state[i][1:3]+next_state[i][3:5]*Dt;\n",
    "    return next_state;\n",
    "\n",
    "def simulation(n_body):\n",
    "    \"\"\" generate a n-body simulation\n",
    "    \"\"\"\n",
    "    data = np.zeros((Nt,n_body,Nf),dtype=float)\n",
    "    data[0][0] = [5, 0, 0, 0, 0.]\n",
    "    for i in range(1,n_body):\n",
    "        data[0][i][0] = np.random.rand()+1.0\n",
    "        dist = np.random.rand()*10.0 \n",
    "        theta_rad = math.radians(np.random.rand()*360.)\n",
    "        data[0][i][1] = dist*np.cos(theta_rad)\n",
    "        data[0][i][2] = dist*np.sin(theta_rad)\n",
    "        data[0][i][3] = -np.cos(theta_rad)*np.sqrt(G*(data[0][0][0]+data[0][i][0])/dist)\n",
    "        data[0][i][4] = np.sin(theta_rad)*np.sqrt(G*(data[0][0][0]+data[0][i][0])/dist)\n",
    "    for i in range(1,Nt):\n",
    "        data[i]=next_step(data[i-1],n_body);\n",
    "    return data"
   ]
  },
  {
   "cell_type": "code",
   "execution_count": 4,
   "metadata": {},
   "outputs": [
    {
     "data": {
      "image/png": "[encoded data removed]",
      "text/plain": [
       "<Figure size 432x288 with 1 Axes>"
      ]
     },
     "metadata": {
      "needs_background": "light"
     },
     "output_type": "display_data"
    }
   ],
   "source": [
    "# An example of Nbody system: No-> number of objects\n",
    "xy = simulation(No)[:, :, 1:3]\n",
    "color=['ro','bo','go','ko','yo','mo','co']\n",
    "for i in range(len(xy)):\n",
    "    if i%10 != 0: continue\n",
    "    for j in range(xy.shape[1]):\n",
    "        plt.plot(xy[i,j,1], xy[i,j,0], color[j%len(color)])"
   ]
  },
  {
   "cell_type": "code",
   "execution_count": 5,
   "metadata": {},
   "outputs": [],
   "source": [
    "# Data Preparation for graph-net\n",
    "\n",
    "set_num = 10\n",
    "total_data = np.zeros(((Nt-1)*set_num, Ds, No), dtype=object)\n",
    "total_label = np.zeros(((Nt-1)*set_num, Dp, No), dtype=object)\n",
    "for i in range(set_num):\n",
    "    raw_data = simulation(No)\n",
    "    data = np.zeros((Nt-1, Ds, No), dtype=object)\n",
    "    label = np.zeros((Nt-1, Dp, No), dtype=object)\n",
    "    for j in range(Nt-1):\n",
    "        data[j] = np.transpose(raw_data[j])\n",
    "        label[j] = np.transpose(raw_data[j+1,:, 3:5])\n",
    "    total_data[i*(Nt-1):(i+1)*(Nt-1),:] = data\n",
    "    total_label[i*(Nt-1):(i+1)*(Nt-1),:] = label\n",
    "\n",
    "# Training/Validation/Test Split\n",
    "train_data, test_data, train_label, test_label = train_test_split(total_data, \n",
    "                        total_label, test_size=0.1, shuffle=True)\n",
    "train_data, val_data, train_label, val_label = train_test_split(train_data, \n",
    "                        train_label, test_size=0.1, shuffle=True)\n",
    "\n",
    "\n",
    "mini_batch = 100\n",
    "# Set Rr_data, Rs_data, Ra_data and X_data\n",
    "Rr_data = np.zeros((mini_batch, No, Nr), dtype=float)\n",
    "Rs_data = np.zeros((mini_batch, No, Nr), dtype=float)\n",
    "Ra_data = np.zeros((mini_batch, Dr, Nr), dtype=float) \n",
    "X_data = np.zeros((mini_batch, Dx, No), dtype=float)\n",
    "\n",
    "# add relations for differeNt nodes\n",
    "cNt=0\n",
    "for i in range(No):\n",
    "    for j in range(No):\n",
    "        if i==j: continue\n",
    "        Rr_data[:, i, cNt] = 1.0\n",
    "        Rs_data[:, j, cNt] = 1.0\n",
    "        cNt += 1"
   ]
  },
  {
   "cell_type": "code",
   "execution_count": 6,
   "metadata": {},
   "outputs": [],
   "source": [
    "# Construct graph-network\n",
    "# IN(G) = phi_O(a(G, X, phi_R(m(G))))\n",
    "\n",
    "def m(O,Rr,Rs,Ra):\n",
    "    \"\"\" Marshalling function, rearranges the objects and relations iNto\n",
    "    iNteraction terms.\n",
    "    Output dimension: (2*Ds + Dr)*Nr\n",
    "    \"\"\"\n",
    "    return tf.concat([(tf.matmul(O,Rr)-tf.matmul(O,Rs)),Ra],1)\n",
    "  \n",
    "def phi_R(B):\n",
    "    \"\"\" B is input to phi_R, which applies an MLP to each column.\n",
    "    Output is a distributed represeNtation of the relation with size De.\n",
    "    Ouput dimension: De * Nr\n",
    "    \"\"\"\n",
    "    B_trans = tf.transpose(B, [0, 2, 1])\n",
    "    B_trans = tf.reshape(B_trans, [-1, Ds+Dr])\n",
    "    \n",
    "    h_size = 100\n",
    "    w1 = tf.Variable(tf.truncated_normal([Ds+Dr, h_size], stddev=0.1), dtype=tf.float32)\n",
    "    b1 = tf.Variable(tf.zeros([h_size]), dtype=tf.float32)\n",
    "    h1 = tf.nn.relu(tf.matmul(B_trans, w1) + b1)\n",
    "    \n",
    "    w2 = tf.Variable(tf.truncated_normal([h_size, h_size], stddev=0.1), dtype=tf.float32)\n",
    "    b2 = tf.Variable(tf.zeros([h_size]), dtype=tf.float32)\n",
    "    h2 = tf.nn.relu(tf.matmul(h1, w2) + b2)\n",
    "    \n",
    "    w3 = tf.Variable(tf.truncated_normal([h_size, h_size], stddev=0.1), dtype=tf.float32)\n",
    "    b3 = tf.Variable(tf.zeros([h_size]), dtype=tf.float32)\n",
    "    h3 = tf.nn.relu(tf.matmul(h2, w3) + b3)\n",
    "    \n",
    "    w4 = tf.Variable(tf.truncated_normal([h_size, De], stddev=0.1), dtype=tf.float32)\n",
    "    b4 = tf.Variable(tf.zeros([De]), dtype=tf.float32)\n",
    "    h4 = tf.nn.relu(tf.matmul(h3, w4) + b4)\n",
    "    \n",
    "    h4_trans = tf.reshape(h4, [-1, Nr, De])\n",
    "    h4_trans = tf.transpose(h4_trans,[0,2,1])\n",
    "    return h4_trans\n",
    "\n",
    "def a(O, Rr, X, E):\n",
    "    \"\"\" Aggregation function: collects all effects that apply to each receiver\n",
    "    object, merges them, and combine them with O and X to form a set of object model \n",
    "    inputs, one per object. No columns represeNt the object states, external effects, \n",
    "    and per-object aggregate iNteraction effects.\n",
    "    Output dimension: C = (Ds+Dx+De)*No\n",
    "    \"\"\"\n",
    "    E_bar = tf.matmul(E, tf.transpose(Rr, [0,2,1]))\n",
    "    O_2 = tf.stack(tf.unstack(O, Ds, 1)[3:5],1)\n",
    "    return tf.concat([O_2,X,E_bar],1)\n",
    "\n",
    "def phi_O(C):\n",
    "    \"\"\"C applies to another MLP, to each of the No columns.\n",
    "    Output size: Dp.\n",
    "    \"\"\"\n",
    "    C_trans=tf.transpose(C,[0,2,1]);\n",
    "    C_trans=tf.reshape(C_trans,[-1,2+Dx+De])\n",
    "    \n",
    "    h_size=100\n",
    "    w1 = tf.Variable(tf.truncated_normal([2+Dx+De, h_size], stddev=0.1), dtype=tf.float32)\n",
    "    b1 = tf.Variable(tf.zeros([h_size]), dtype=tf.float32)\n",
    "    h1 = tf.nn.relu(tf.matmul(C_trans, w1) + b1)\n",
    "    \n",
    "    w2 = tf.Variable(tf.truncated_normal([h_size,Dp], stddev=0.1), dtype=tf.float32)\n",
    "    b2 = tf.Variable(tf.zeros([Dp]), dtype=tf.float32)\n",
    "    h2 = tf.matmul(h1, w2) + b2\n",
    "    \n",
    "    h2_trans=tf.reshape(h2,[-1, No, Dp])\n",
    "    h2_trans=tf.transpose(h2_trans,[0,2,1])\n",
    "    return h2_trans\n"
   ]
  },
  {
   "cell_type": "code",
   "execution_count": 11,
   "metadata": {},
   "outputs": [],
   "source": [
    "# Object Matrix\n",
    "O = tf.placeholder(tf.float32, [None, Ds, No])\n",
    "\n",
    "# Relation Matrics R=<Rr,Rs,Ra>\n",
    "Rr = tf.placeholder(tf.float32, [None, No, Nr])\n",
    "Rs = tf.placeholder(tf.float32, [None, No, Nr])\n",
    "Ra = tf.placeholder(tf.float32, [None, Dr, Nr])\n",
    "\n",
    "# next velocities\n",
    "P_label = tf.placeholder(tf.float32, [None, Dp, No])\n",
    "\n",
    "# External Effects\n",
    "X = tf.placeholder(tf.float32, [None, Dx, No])\n",
    "\n",
    "# marshalling function, m(G)=B, G=<O,R>  \n",
    "B = m(O, Rr, Rs, Ra)\n",
    "\n",
    "# relational modeling phi_R(B)=E\n",
    "E = phi_R(B)\n",
    "\n",
    "# aggregator\n",
    "C = a(O, Rr, X, E)\n",
    "\n",
    "# object modeling phi_O(C)=P\n",
    "P = phi_O(C)\n"
   ]
  },
  {
   "cell_type": "code",
   "execution_count": 8,
   "metadata": {},
   "outputs": [
    {
     "name": "stdout",
     "output_type": "stream",
     "text": [
      "WARNING:tensorflow:From /anaconda3/lib/python3.7/site-packages/tensorflow/python/ops/math_ops.py:3066: to_int32 (from tensorflow.python.ops.math_ops) is deprecated and will be removed in a future version.\n",
      "Instructions for updating:\n",
      "Use tf.cast instead.\n",
      "Epoch 1 Training MSE: 2.8548056460916995 Validation MSE: 0.21192591389020285\n",
      "Epoch 2 Training MSE: 0.10691751635167748 Validation MSE: 0.056909744524293475\n",
      "Epoch 3 Training MSE: 0.04725198778323829 Validation MSE: 0.04635453762279616\n",
      "Epoch 4 Training MSE: 0.04070397223113105 Validation MSE: 0.03624965436756611\n",
      "Epoch 5 Training MSE: 0.04341617800528184 Validation MSE: 0.03833174126015769\n",
      "Epoch 6 Training MSE: 0.03900403761072084 Validation MSE: 0.03188615354398886\n",
      "Epoch 7 Training MSE: 0.029609618079848587 Validation MSE: 0.031024304632511403\n",
      "Epoch 8 Training MSE: 0.02867702121147886 Validation MSE: 0.028232914706071217\n",
      "Epoch 9 Training MSE: 0.027805810031713916 Validation MSE: 0.028138962677783437\n",
      "Epoch 10 Training MSE: 0.027006487391190603 Validation MSE: 0.027901973264912765\n"
     ]
    }
   ],
   "source": [
    "# loss and optimizer\n",
    "params_list = tf.global_variables()\n",
    "mse = tf.reduce_mean(tf.reduce_mean(tf.square(P-P_label), [1,2]))\n",
    "\n",
    "loss = 0.001*tf.nn.l2_loss(E)\n",
    "for param in params_list:\n",
    "    loss += 0.001*tf.nn.l2_loss(param)\n",
    "    \n",
    "optimizer = tf.train.AdamOptimizer(0.001)\n",
    "trainer = optimizer.minimize(mse + loss)\n",
    "\n",
    "# Training\n",
    "max_epoches = 10\n",
    "\n",
    "sess = tf.InteractiveSession()\n",
    "tf.global_variables_initializer().run()\n",
    "\n",
    "\n",
    "for i in range(max_epoches):\n",
    "    tr_loss=0;\n",
    "    for j in range(int(len(train_data)/mini_batch)):\n",
    "        batch_data = train_data[j*mini_batch:(j+1)*mini_batch]\n",
    "        batch_label = train_label[j*mini_batch:(j+1)*mini_batch]\n",
    "        tr_loss_part, _= sess.run([mse,trainer], \\\n",
    "            feed_dict = {O:batch_data, Rr:Rr_data, Rs:Rs_data, \\\n",
    "                         Ra:Ra_data, P_label: batch_label,X:X_data});\n",
    "        tr_loss += tr_loss_part\n",
    "\n",
    "    train_idx = list(range(len(train_data)))\n",
    "    np.random.shuffle(train_idx)\n",
    "    train_data=train_data[train_idx]\n",
    "    train_label=train_label[train_idx]\n",
    "\n",
    "    val_loss=0\n",
    "    for j in range(int(len(val_data)/mini_batch)):\n",
    "        batch_data = val_data[j*mini_batch:(j+1)*mini_batch]\n",
    "        batch_label = val_label[j*mini_batch:(j+1)*mini_batch]\n",
    "        val_loss_part, estimated = sess.run([mse, P],\\\n",
    "            feed_dict ={O:batch_data, Rr:Rr_data, Rs:Rs_data, \\\n",
    "                       Ra:Ra_data, P_label:batch_label, X:X_data})\n",
    "        val_loss += val_loss_part\n",
    "\n",
    "    val_idx = list(range(len(val_data)))\n",
    "    np.random.shuffle(val_idx)\n",
    "    val_data = val_data[val_idx]\n",
    "    val_label = val_label[val_idx]\n",
    "    print(\"Epoch \"+str(i+1)+\" Training MSE: \"+ str(tr_loss/(int(len(train_data)/mini_batch))) \\\n",
    "          +\" Validation MSE: \" + str(val_loss/(j+1)))\n"
   ]
  },
  {
   "cell_type": "code",
   "execution_count": 9,
   "metadata": {},
   "outputs": [
    {
     "name": "stdout",
     "output_type": "stream",
     "text": [
      "Test Loss: 1.8985567344352603\n"
     ]
    }
   ],
   "source": [
    "# Prediction\n",
    "frame_len = 300\n",
    "raw_data = simulation(No)\n",
    "xy_origin = copy.deepcopy(raw_data[:frame_len,:,1:3])\n",
    "\n",
    "estimated_data = np.zeros((frame_len, No, Ds),dtype=float)\n",
    "estimated_data[0] = raw_data[0]\n",
    "\n",
    "ts_loss=0;\n",
    "for i in range(1,frame_len):\n",
    "    ts_loss_part, velocities = sess.run([mse, P], \\\n",
    "        feed_dict={O:[np.transpose(raw_data[i-1])],Rr:[Rr_data[0]],Rs:[Rs_data[0]],\\\n",
    "                   Ra:[Ra_data[0]],X:[X_data[0]],P_label:[np.transpose(raw_data[i,:,3:5])]})\n",
    "\n",
    "    velocities = velocities[0]\n",
    "    estimated_data[i,:,0] = estimated_data[i-1][:,0]\n",
    "    estimated_data[i,:,3:5] = np.transpose(velocities)\n",
    "    estimated_data[i,:,1:3] = estimated_data[i-1,:,1:3] + estimated_data[i,:,3:5]*Dt\n",
    "    \n",
    "    ts_loss += ts_loss_part\n",
    "xy_estimated = estimated_data[:,:,1:3]\n",
    "print(\"Test Loss: \"+str(ts_loss));\n"
   ]
  },
  {
   "cell_type": "code",
   "execution_count": 10,
   "metadata": {},
   "outputs": [
    {
     "data": {
      "image/png": "[encoded data removed]",
      "text/plain": [
       "<Figure size 1008x360 with 2 Axes>"
      ]
     },
     "metadata": {
      "needs_background": "light"
     },
     "output_type": "display_data"
    }
   ],
   "source": [
    "colors = ['k','r','g','b','c','m']\n",
    "fig, ax = plt.subplots(1,2,figsize=(14,5))\n",
    "for i in range(len(xy_origin)):\n",
    "    if i%10 != 0: continue\n",
    "    for j in range(xy_origin.shape[1]):\n",
    "        ax[0].scatter(xy_origin[i,j,0], xy_origin[i,j,1], color=colors[j%len(colors)])\n",
    "        ax[1].scatter(xy_estimated[i,j,0], xy_estimated[i,j,1],color=colors[j%len(colors)])"
   ]
  },
  {
   "cell_type": "code",
   "execution_count": null,
   "metadata": {},
   "outputs": [],
   "source": []
  },
  {
   "cell_type": "code",
   "execution_count": null,
   "metadata": {},
   "outputs": [],
   "source": []
  }
 ],
 "metadata": {
  "kernelspec": {
   "display_name": "Python 3",
   "language": "python",
   "name": "python3"
  },
  "language_info": {
   "codemirror_mode": {
    "name": "ipython",
    "version": 3
   },
   "file_extension": ".py",
   "mimetype": "text/x-python",
   "name": "python",
   "nbconvert_exporter": "python",
   "pygments_lexer": "ipython3",
   "version": "3.7.1"
  }
 },
 "nbformat": 4,
 "nbformat_minor": 2
}
