{
 "cells": [
  {
   "cell_type": "markdown",
   "metadata": {},
   "source": [
    "## N-body graph networks for Peter W. Battaglia et. al, 2016"
   ]
  },
  {
   "cell_type": "markdown",
   "metadata": {},
   "source": [
    "TO DO LIST\n",
    "\n",
    "One thing you might want to do with the bowtie plot analysis is just fit a linear regression, with the e vectors as predictors and true forces as targets, to quantify what the bowtie plots show. If it's a perfect linear fit, that's interesting.\n",
    "\n",
    "You could also try replacing the node update model with an integrator (eg. RK4), because then the messages should be learned without the rotation. Since integration is a pretty safe assumption in modeling dynamical systems, this seems like a reasonable choice.\n",
    "\n",
    "As for the presentation, you might want to start with the bowtie/true comparison first, then go to the symbolic regression as a \"now that we've verified it can learn stuff we already know about, how could it discover new symbolic knowledge?\". \n",
    "\n",
    "I'm wondering: if you plug in the discovered symbolic function in the graph net, rather than an MLP, how do the trajectories look? (Your MSEs in Table 1 are on 1-step predictions right?)\n",
    "\n",
    "I'm also curious about what happens in 3D, or with other physical systems, eg. mass spring, charged particles, etc.\n"
   ]
  },
  {
   "cell_type": "code",
   "execution_count": 4,
   "metadata": {},
   "outputs": [],
   "source": [
    "import sys\n",
    "import warnings\n",
    "import math, copy\n",
    "import numpy as np\n",
    "import tensorflow as tf\n",
    "import pickle as pkl\n",
    "import matplotlib.pyplot as plt\n",
    "%matplotlib inline\n",
    "warnings.filterwarnings(\"ignore\") "
   ]
  },
  {
   "cell_type": "code",
   "execution_count": 5,
   "metadata": {},
   "outputs": [],
   "source": [
    "config = tf.ConfigProto(log_device_placement=True)\n",
    "config.gpu_options.allow_growth = True"
   ]
  },
  {
   "cell_type": "code",
   "execution_count": 6,
   "metadata": {},
   "outputs": [],
   "source": [
    "# Simulation parameters\n",
    "Nt = 1000 #  number of time steps\n",
    "G = 1 # gravitational constaNt\n",
    "Dt = 0.01 # time step\n",
    "\n",
    "# Graph network parameters\n",
    "Ds = 5 # number of features [mass, x, y, vx, vy]\n",
    "No = 6 # number of objects\n",
    "Nr = No*(No-1) # number of relations\n",
    "Dr = 1 # relationship dimension\n",
    "Dx = 1 # external effect dimension\n",
    "Dp = 2 # object modeling output dimension\n",
    "\n",
    "# Variable\n",
    "cube = False # True for 3D simulations\n",
    "inv = False  # True for testing F ~ 1/r laws\n",
    "De = 2 # effect dimension\n",
    "LABEL_MAGIC = 1000"
   ]
  },
  {
   "cell_type": "code",
   "execution_count": 7,
   "metadata": {},
   "outputs": [],
   "source": [
    "# Nbody Simulation System\n",
    "def cal_force(reciever,sender):\n",
    "    \"\"\" calculate force between two objects\n",
    "    \"\"\"\n",
    "    diff = sender[1:3]-reciever[1:3]\n",
    "    dist = np.sqrt(np.sum(diff**2))\n",
    "    too_close = dist < 0.05\n",
    "    if not too_close:\n",
    "        if not cube:\n",
    "            if not inv:\n",
    "                return G*reciever[0]*sender[0]/(dist**3)*diff, True\n",
    "            else:\n",
    "                return G*reciever[0]*sender[0]/(dist**2)*diff, True\n",
    "        else:\n",
    "            return G*reciever[0]*sender[0]/(dist**4)*diff, True\n",
    "    else:\n",
    "        return - 100, False\n",
    "\n",
    "def next_step(cur_state,n_body):\n",
    "    \"\"\" update positions & velocities after Dt\n",
    "    \"\"\"\n",
    "    next_state = np.zeros((n_body,Ds),dtype=float)\n",
    "    for i in range(n_body):\n",
    "        force = 0.0\n",
    "        for j in range(n_body):\n",
    "            if j==i:\n",
    "                continue\n",
    "            added_force, good_force = cal_force(cur_state[i], cur_state[j]) \n",
    "            if not good_force:\n",
    "                return None\n",
    "            force += added_force\n",
    "        acc = force/cur_state[i][0]\n",
    "        next_state[i][0] = cur_state[i][0];\n",
    "        next_state[i][3:5] = cur_state[i][3:5]+acc*Dt; #New velocity\n",
    "        next_state[i][1:3] = cur_state[i][1:3]+next_state[i][3:5]*Dt; #New position\n",
    "    return next_state;\n",
    "\n",
    "def get_simulation(n_body, set_num=100, recursion=0, verbose=False):\n",
    "    \"\"\" generate a n-body simulation\n",
    "    \"\"\"\n",
    "    if recursion > 100:\n",
    "        return None\n",
    "    try:\n",
    "        data = np.zeros((Nt,n_body,Ds),dtype=float)\n",
    "        data[0][0] = [np.random.rand()*3 + 3.0, 0, 0, 0, 0.]\n",
    "        for i in range(1,n_body):\n",
    "            data[0][i][0] = np.random.rand()*1+1.0 #Mass\n",
    "            dist = np.random.rand()*5.0 + 5#Distance\n",
    "            theta_rad = math.radians(np.random.rand()*360.)\n",
    "            data[0][i][1] = dist*np.cos(theta_rad)\n",
    "            data[0][i][2] = dist*np.sin(theta_rad)\n",
    "            data[0][i][3] = -np.sin(theta_rad)*np.sqrt(G*(data[0][0][0]+data[0][i][0])/dist)\n",
    "            data[0][i][4] = np.cos(theta_rad)*np.sqrt(G*(data[0][0][0]+data[0][i][0])/dist)\n",
    "        for i in range(1,Nt):\n",
    "            new_data = next_step(data[i-1],n_body);\n",
    "            if new_data is None:\n",
    "                break\n",
    "            data[i] = new_data\n",
    "        else:\n",
    "            # Good integration\n",
    "            if verbose:\n",
    "                print(\"Took\", recursion, \"iterations\")\n",
    "            return data\n",
    "        return simulation(n_body, recursion+1, verbose=verbose) # Re-run!\n",
    "    except:\n",
    "        return simulation(n_body, recursion+1, verbose=verbose) # Re-run!"
   ]
  },
  {
   "cell_type": "code",
   "execution_count": null,
   "metadata": {},
   "outputs": [],
   "source": [
    "set_num = 1000\n",
    "train_data = np.zeros(((Nt-1)*set_num, Ds, No), dtype=np.float32)\n",
    "train_label = np.zeros(((Nt-1)*set_num, Dp, No), dtype=np.float32)\n",
    "all_sims = gen_simulations(No, set_num)\n",
    "for i in range(set_num):\n",
    "    raw_data = all_sims[i]\n",
    "    data = np.zeros((Nt-1, Ds, No), dtype=np.float32)\n",
    "    label = np.zeros((Nt-1, Dp, No), dtype=np.float32)\n",
    "    for j in range(Nt-1):\n",
    "        data[j] = np.transpose(raw_data[j])\n",
    "        label[j] = np.transpose(raw_data[j+1,:, 3:5] - raw_data[j,:, 3:5])\n",
    "    train_data[i*(Nt-1):(i+1)*(Nt-1),:] = data\n",
    "    train_label[i*(Nt-1):(i+1)*(Nt-1),:] = label\n",
    "pkl.dump( {'train_data':train_data, 'test_data':train_label,\n",
    "         'Nt': Nt, 'No': No},\n",
    "        open('nbody_%d_bodies_%d.pkl'%(No, save_id), 'wb'))"
   ]
  },
  {
   "cell_type": "code",
   "execution_count": 8,
   "metadata": {},
   "outputs": [],
   "source": [
    "def m(O,Rr,Rs,Ra):\n",
    "    \"\"\" Marshalling function, rearranges the objects and relations into\n",
    "    interaction terms.\n",
    "    Output dimension: (2*Ds + Dr)*Nr\n",
    "    \"\"\"\n",
    "    return tf.concat([tf.matmul(O,Rr), tf.matmul(O,Rs), Ra],1)\n",
    "\n",
    "def phi_R(B, prob):\n",
    "    \"\"\" B is input to phi_R, which applies an MLP to each column.\n",
    "    Output is a distributed represeNtation of the relation with size De.\n",
    "    Ouput dimension: De * Nr\n",
    "    \"\"\"\n",
    "    B_trans = tf.transpose(B, [0, 2, 1])\n",
    "    B_trans = tf.reshape(B_trans, [-1, 2*Ds+Dr])\n",
    "    \n",
    "    h_size = 100\n",
    "    w1 = tf.Variable(tf.truncated_normal([2*Ds+Dr, h_size], stddev=0.1, name='phir_w1'), dtype=tf.float32)\n",
    "    b1 = tf.Variable(tf.zeros([h_size]), dtype=tf.float32, name='phir_b1')\n",
    "    h1 = tf.nn.relu(tf.nn.dropout(tf.matmul(B_trans, w1) + b1, rate=prob))\n",
    "    \n",
    "    w2 = tf.Variable(tf.truncated_normal([h_size, h_size], stddev=0.1), dtype=tf.float32, name='phir_w2')\n",
    "    b2 = tf.Variable(tf.zeros([h_size]), dtype=tf.float32, name='phir_b2')\n",
    "    h2 = tf.nn.relu(tf.nn.dropout(tf.matmul(h1, w2) + b2, rate=prob))\n",
    "    \n",
    "    w3 = tf.Variable(tf.truncated_normal([h_size, h_size], stddev=0.1), dtype=tf.float32, name='phir_w3')\n",
    "    b3 = tf.Variable(tf.zeros([h_size]), dtype=tf.float32, name='phir_b3')\n",
    "    h3 = tf.nn.relu(tf.nn.dropout(tf.matmul(h2, w3) + b3, rate=prob))\n",
    "    \n",
    "    w4 = tf.Variable(tf.truncated_normal([h_size, De], stddev=0.1), dtype=tf.float32, name='phir_w4')\n",
    "    b4 = tf.Variable(tf.zeros([De]), dtype=tf.float32, name='phir_b4')\n",
    "    h4 = tf.matmul(h3, w4) + b4\n",
    "    \n",
    "    h4_trans = tf.reshape(h4, [-1, Nr, De])\n",
    "    h4_trans = tf.transpose(h4_trans,[0,2,1])\n",
    "    return h4_trans\n",
    "\n",
    "def a(O, Rr, X, E):\n",
    "    \"\"\" Aggregation function: collects all effects that apply to each receiver\n",
    "    object, merges them, and combine them with O and X to form a set of object model \n",
    "    inputs, one per object. No columns represeNt the object states, external effects, \n",
    "    and per-object aggregate iNteraction effects.\n",
    "    Output dimension: C = (Ds+Dx+De)*No\n",
    "    \"\"\"\n",
    "    E_bar = tf.matmul(E, tf.transpose(Rr, [0,2,1]))\n",
    "    O_2 = tf.stack(tf.unstack(O, Ds, 1)[3:5],1)\n",
    "    return tf.concat([O_2,X,E_bar],1)\n",
    "\n",
    "def phi_O(C):\n",
    "    \"\"\"C applies to another MLP, to each of the No columns.\n",
    "    Output size: Dp.\n",
    "    \"\"\"\n",
    "    C_trans=tf.transpose(C,[0,2,1]);\n",
    "    C_trans=tf.reshape(C_trans,[-1,2+Dx+De])\n",
    "    \n",
    "    h_size = 100\n",
    "    w1 = tf.Variable(tf.truncated_normal([2+Dx+De, h_size], stddev=0.1), dtype=tf.float32)\n",
    "    b1 = tf.Variable(tf.zeros([h_size]), dtype=tf.float32)\n",
    "    h1 = tf.nn.relu(tf.matmul(C_trans, w1) + b1)\n",
    "    \n",
    "    w2 = tf.Variable(tf.truncated_normal([h_size,Dp], stddev=0.1), dtype=tf.float32)\n",
    "    b2 = tf.Variable(tf.zeros([Dp]), dtype=tf.float32)\n",
    "    h2 = tf.matmul(h1, w2) + b2\n",
    "    \n",
    "    h2_trans=tf.reshape(h2,[-1, No, Dp])\n",
    "    h2_trans=tf.transpose(h2_trans,[0,2,1])\n",
    "    return h2_trans\n"
   ]
  },
  {
   "cell_type": "code",
   "execution_count": 9,
   "metadata": {},
   "outputs": [
    {
     "name": "stdout",
     "output_type": "stream",
     "text": [
      "WARNING:tensorflow:From /home/ruix/tig/anaconda3/lib/python3.7/site-packages/tensorflow/python/framework/op_def_library.py:263: colocate_with (from tensorflow.python.framework.ops) is deprecated and will be removed in a future version.\n",
      "Instructions for updating:\n",
      "Colocations handled automatically by placer.\n"
     ]
    }
   ],
   "source": [
    "# Object Matrix\n",
    "O = tf.placeholder(tf.float32, [None, Ds, No], name='O')\n",
    "\n",
    "prob = tf.placeholder(tf.float32, shape=(), name='prob') #Turn off during eval\n",
    "\n",
    "# Relation Matrics R=<Rr,Rs,Ra>\n",
    "Rr = tf.placeholder(tf.float32, [None, No, Nr], name='Rr')\n",
    "Rs = tf.placeholder(tf.float32, [None, No, Nr], name='Rs')\n",
    "Ra = tf.placeholder(tf.float32, [None, Dr, Nr], name='Ra')\n",
    "\n",
    "# next velocities\n",
    "P_label = tf.placeholder(tf.float32, [None, Dp, No], name='P_label')\n",
    "\n",
    "# External Effects\n",
    "X = tf.placeholder(tf.float32, [None, Dx, No], name='X')\n",
    "\n",
    "# marshalling function, m(G)=B, G=<O,R>  \n",
    "B = m(O, Rr, Rs, Ra)\n",
    "\n",
    "# relational modeling phi_R(B)=E\n",
    "E = phi_R(B, prob)\n",
    "\n",
    "# aggregator\n",
    "C = a(O, Rr, X, E)\n",
    "\n",
    "# object modeling phi_O(C)=P\n",
    "P = phi_O(C)"
   ]
  },
  {
   "cell_type": "code",
   "execution_count": 10,
   "metadata": {},
   "outputs": [
    {
     "name": "stdout",
     "output_type": "stream",
     "text": [
      "WARNING:tensorflow:From /home/ruix/tig/anaconda3/lib/python3.7/site-packages/tensorflow/python/ops/math_ops.py:3066: to_int32 (from tensorflow.python.ops.math_ops) is deprecated and will be removed in a future version.\n",
      "Instructions for updating:\n",
      "Use tf.cast instead.\n"
     ]
    }
   ],
   "source": [
    "# loss function and optimizer\n",
    "optimizer = tf.train.AdamOptimizer(0.001)\n",
    "mse = tf.reduce_mean(tf.reduce_mean(tf.abs(P-P_label), [1,2])) \n",
    "trainer = optimizer.minimize(mse)\n",
    "\n",
    "# Training\n",
    "sess = tf.InteractiveSession(config=config)\n",
    "init_op = tf.global_variables_initializer()\n",
    "\n",
    "# Add ops to save and restore all the variables.\n",
    "saver = tf.train.Saver()\n",
    "\n",
    "#Run global variables\n",
    "init_op.run()\n",
    "\n",
    "train_losses = []\n",
    "validation_losses = []"
   ]
  },
  {
   "cell_type": "code",
   "execution_count": 11,
   "metadata": {},
   "outputs": [],
   "source": [
    "# Set up mini-batch for Rr_data, Rs_data, Ra_data and X_data\n",
    "mini_batch = 100\n",
    "Rr_batch = np.zeros((mini_batch, No, Nr), dtype=float)\n",
    "Rs_batch = np.zeros((mini_batch, No, Nr), dtype=float)\n",
    "Ra_batch = np.zeros((mini_batch, Dr, Nr), dtype=float) \n",
    "X_batch = np.zeros((mini_batch, Dx, No), dtype=float)\n",
    "\n",
    "# add relations for different nodes\n",
    "count = 0\n",
    "for i in range(No):\n",
    "    for j in range(No):\n",
    "        if i==j: continue\n",
    "        Rr_batch[:, i, count] = 1.0\n",
    "        Rs_batch[:, j, count] = 1.0\n",
    "        count += 1"
   ]
  },
  {
   "cell_type": "code",
   "execution_count": 12,
   "metadata": {},
   "outputs": [],
   "source": [
    "# Data Preparation for graph-net\n",
    "idx = 0\n",
    "data = pkl.load(open('nbody_%d_bodies_%d.pkl' % (No, idx), 'rb'))\n",
    "train_data = data['train_data']\n",
    "train_label = data['test_data'] \n",
    "tr_data, tr_label  = train_data[:len(train_data)*4//5].copy(), train_label[:len(train_data)*4//5].copy()\n",
    "val_data, val_label = train_data[len(train_data)*4//5:].copy(), train_label[len(train_data)*4//5:].copy()\n",
    "tr_data_idx = np.arange(len(tr_data))"
   ]
  },
  {
   "cell_type": "code",
   "execution_count": 13,
   "metadata": {
    "scrolled": true
   },
   "outputs": [
    {
     "name": "stdout",
     "output_type": "stream",
     "text": [
      "4.843957722187042e-05 currently at 0; Epochs: 0, Training MSE: 3.47e-06, Validation MSE: 5.52e-06\n",
      "2.6536313816905022e-06 currently at 0; Epochs: 1, Training MSE: 2.51e-06, Validation MSE: 6.19e-06\n"
     ]
    }
   ],
   "source": [
    "for epoch in range(2):\n",
    "    # training\n",
    "    tr_loss = 0\n",
    "    num_tr = 0\n",
    "    np.random.shuffle(tr_data_idx)\n",
    "    tr_data = tr_data[tr_data_idx]\n",
    "    tr_label = tr_label[tr_data_idx]\n",
    "\n",
    "    for j in range(int(len(tr_data)/mini_batch + 1)):\n",
    "        end = (j+1)*mini_batch\n",
    "        if end > len(tr_data):\n",
    "            break\n",
    "        loss, _ = sess.run([mse, trainer], feed_dict = {O: tr_data[j*mini_batch:end], \\\n",
    "            Rr:Rr_batch, Rs:Rs_batch, Ra:Ra_batch, P_label: tr_label[j*mini_batch:end], X:X_batch, prob:0.0})\n",
    "        tr_loss += loss / LABEL_MAGIC * 100\n",
    "        num_tr += mini_batch\n",
    "        if j % 1000 == 0:\n",
    "            print(tr_loss/num_tr, 'currently at', j, end='; ')\n",
    "\n",
    "    val_loss = 0\n",
    "    num_val = 0\n",
    "    for j in range(int(len(val_data)/mini_batch + 1)):\n",
    "        end = (j+1)*mini_batch\n",
    "        if end > len(val_data):\n",
    "            break\n",
    "        loss, _ = sess.run([mse, P], feed_dict ={O: val_data[j*mini_batch:end], \\\n",
    "            Rr:Rr_batch, Rs:Rs_batch, Ra:Ra_batch, P_label:val_label[j*mini_batch:end], X:X_batch, prob:0.0})\n",
    "        val_loss += loss / LABEL_MAGIC * 100\n",
    "        num_val += mini_batch\n",
    "    print(\"Epochs: %d, Training MSE: %.2e, Validation MSE: %.2e\" % (epoch, tr_loss/num_tr, val_loss/num_val))"
   ]
  },
  {
   "cell_type": "code",
   "execution_count": 14,
   "metadata": {},
   "outputs": [
    {
     "data": {
      "text/plain": [
       "'nbody=6_De=2.cptk'"
      ]
     },
     "execution_count": 14,
     "metadata": {},
     "output_type": "execute_result"
    }
   ],
   "source": [
    "saver.save(sess, 'nbody=6_De=2.cptk')"
   ]
  },
  {
   "cell_type": "code",
   "execution_count": 15,
   "metadata": {},
   "outputs": [
    {
     "data": {
      "text/plain": [
       "Text(0, 0.5, 'a*(Actual Acceleration) + b')"
      ]
     },
     "execution_count": 15,
     "metadata": {},
     "output_type": "execute_result"
    },
    {
     "data": {
      "image/png": "[encoded data removed]",
      "text/plain": [
       "<Figure size 432x288 with 1 Axes>"
      ]
     },
     "metadata": {
      "needs_background": "light"
     },
     "output_type": "display_data"
    }
   ],
   "source": [
    "mini_batch = 20000\n",
    "Rr_batch = np.zeros((mini_batch, No, Nr), dtype=float)\n",
    "Rs_batch = np.zeros((mini_batch, No, Nr), dtype=float)\n",
    "Ra_batch = np.zeros((mini_batch, Dr, Nr), dtype=float) \n",
    "X_batch = np.zeros((mini_batch, Dx, No), dtype=float)\n",
    "\n",
    "# add relations for different nodes\n",
    "count = 0\n",
    "for i in range(No):\n",
    "    for j in range(No):\n",
    "        if i==j: continue\n",
    "        Rr_batch[:, i, count] = 1.0\n",
    "        Rs_batch[:, j, count] = 1.0\n",
    "        count += 1\n",
    "\n",
    "rand_idx = np.random.randint(0, len(train_data), size=mini_batch)\n",
    "\n",
    "out_B, out_E, out_P = sess.run([B, E, P],\n",
    "                        feed_dict = {O: train_data[rand_idx], Rr:Rr_batch, Rs:Rs_batch,\n",
    "                                     Ra:Ra_batch, P_label: train_label[rand_idx],\n",
    "                                     X:X_batch, prob:0.0})\n",
    "\n",
    "out_B = np.transpose(out_B, [0, 2, 1])\n",
    "out_B = np.reshape(out_B, [-1, 2*Ds+Dr])[:, :-1] #Don't care about 0 element\n",
    "out_E = np.transpose(out_E, [0, 2, 1])\n",
    "out_E = np.reshape(out_E, [-1, De])\n",
    "import pandas as pd\n",
    "out_data = pd.DataFrame({   'm1': out_B[:, 0],\n",
    "    'm2': out_B[:, 0+5],\n",
    "    'x_diff': out_B[:, 1] - out_B[:, 1+5],\n",
    "    'y_diff': out_B[:, 2] - out_B[:, 2+5],\n",
    "    'output1': out_E[:, 0],\n",
    "    'output2': out_E[:, 1]\n",
    "})\n",
    "out_data['r'] = np.sqrt(out_data['x_diff']**2 + out_data['y_diff']**2)\n",
    "out_data.to_csv('tmp_data.csv')\n",
    "\n",
    "x = out_B #(m, x, y, vx, vy) * 2\n",
    "sign_idx = 2 #1 or 2\n",
    "if cube:\n",
    "    x = (x[:, 5] / ((x[:, 1] - x[:, 1+5])**2 + (x[:, 2] - x[:, 2+5])**3)) * np.sign((x[:, sign_idx] - x[:, sign_idx+5]))\n",
    "else:\n",
    "    if inv:\n",
    "        x = (x[:, 5] / ((x[:, 1] - x[:, 1+5])**2 + (x[:, 2] - x[:, 2+5])**2)**(0.5)) * np.sign((x[:, sign_idx] - x[:, sign_idx+5]))\n",
    "    else:\n",
    "        x = (x[:, 5] / ((x[:, 1] - x[:, 1+5])**2 + (x[:, 2] - x[:, 2+5])**2)) * np.sign((x[:, sign_idx] - x[:, sign_idx+5]))\n",
    "\n",
    "    \n",
    "y = out_E[:, 1]\n",
    "\n",
    "plt.scatter(x, y)\n",
    "plt.xlabel(\"Expected Acceleration\")\n",
    "plt.ylabel(\"a*(Actual Acceleration) + b\")"
   ]
  },
  {
   "cell_type": "code",
   "execution_count": 17,
   "metadata": {},
   "outputs": [
    {
     "name": "stdout",
     "output_type": "stream",
     "text": [
      "Test MSE: 0.6508233075141907\n"
     ]
    },
    {
     "data": {
      "image/png": "[encoded data removed]",
      "text/plain": [
       "<Figure size 1008x360 with 2 Axes>"
      ]
     },
     "metadata": {
      "needs_background": "light"
     },
     "output_type": "display_data"
    }
   ],
   "source": [
    "# Make Prediction\n",
    "\n",
    "raw_data = get_simulation(No)\n",
    "here_Nt = 1000\n",
    "predict = np.zeros((here_Nt, No, Ds),dtype=float)\n",
    "\n",
    "ts_loss, predict[0] = 0.0, raw_data[0]\n",
    "predict[0, :, 3:5] = predict[0, :, 3:5]# * (std_label[None, :] / LABEL_MAGIC)\n",
    "for i in range(1, here_Nt):\n",
    "    loss, vel_difference = sess.run(\n",
    "        [mse, P],\n",
    "        feed_dict={\n",
    "            O:[np.transpose(predict[i-1])], Rr:[Rr_batch[0]],\n",
    "            Rs:[Rs_batch[0]], Ra:[Ra_batch[0]],\n",
    "            X:[X_batch[0]],\n",
    "            P_label:[np.transpose(raw_data[i,:,3:5])], prob: 0.0}\n",
    "    )\n",
    "    #Update velocity\n",
    "    \n",
    "    #IM AN IDIOT - I NEED TO INCLUDE VEL DIFFERENCES FOR ALL BODIES!\n",
    "    predict[i, :, 3:5] = predict[i-1, :, 3:5] + vel_difference[0].T * (1. / LABEL_MAGIC)\n",
    "    \n",
    "    predict[i, :, 1:3] = predict[i-1,:,1:3] + predict[i, :, 3:5]*Dt #Update position\n",
    "\n",
    "    ts_loss += loss \n",
    "print(\"Test MSE: \"+ str(ts_loss/(here_Nt)))\n",
    "colors = ['k','r','g','b','c','m']\n",
    "\n",
    "# Plot actual and predicted trajectories\n",
    "fig, ax = plt.subplots(1,2,figsize=(14,5))\n",
    "for i in range(here_Nt):\n",
    "    if i%10 != 0: continue\n",
    "    for j in range(raw_data.shape[1]):\n",
    "        ax[0].scatter(raw_data[i,j,1], raw_data[i,j,2], color=colors[j%len(colors)], alpha=(i/len(raw_data)))\n",
    "        ax[1].scatter(predict[i,j,1], predict[i,j,2], color=colors[j%len(colors)], alpha=(i/len(raw_data)))\n",
    "\n",
    "ax[0].set_title(\"Actual trajectories\")\n",
    "ax[1].set_title(\"Predicted trajectories\")\n",
    "plt.show()"
   ]
  },
  {
   "cell_type": "code",
   "execution_count": 19,
   "metadata": {},
   "outputs": [
    {
     "ename": "NameError",
     "evalue": "name 'Rr_data' is not defined",
     "output_type": "error",
     "traceback": [
      "\u001b[0;31m---------------------------------------------------------------------------\u001b[0m",
      "\u001b[0;31mNameError\u001b[0m                                 Traceback (most recent call last)",
      "\u001b[0;32m<ipython-input-19-fbfd42492d2a>\u001b[0m in \u001b[0;36m<module>\u001b[0;34m\u001b[0m\n\u001b[1;32m      6\u001b[0m \u001b[0mpredict\u001b[0m\u001b[0;34m[\u001b[0m\u001b[0;36m0\u001b[0m\u001b[0;34m]\u001b[0m \u001b[0;34m=\u001b[0m \u001b[0mraw_data\u001b[0m\u001b[0;34m[\u001b[0m\u001b[0;36m0\u001b[0m\u001b[0;34m]\u001b[0m\u001b[0;34m\u001b[0m\u001b[0;34m\u001b[0m\u001b[0m\n\u001b[1;32m      7\u001b[0m \u001b[0;32mfor\u001b[0m \u001b[0mi\u001b[0m \u001b[0;32min\u001b[0m \u001b[0mrange\u001b[0m\u001b[0;34m(\u001b[0m\u001b[0;36m1\u001b[0m\u001b[0;34m,\u001b[0m\u001b[0mNt\u001b[0m\u001b[0;34m)\u001b[0m\u001b[0;34m:\u001b[0m\u001b[0;34m\u001b[0m\u001b[0;34m\u001b[0m\u001b[0m\n\u001b[0;32m----> 8\u001b[0;31m     loss, vel = sess.run([mse, P], feed_dict={O:[np.transpose(raw_data[i-1])], Rr:[Rr_data[0]],\n\u001b[0m\u001b[1;32m      9\u001b[0m         Rs:[Rs_data[0]], Ra:[Ra_data[0]],X:[X_data[0]], P_label:[np.transpose(raw_data[i,:,3:5])]})\n\u001b[1;32m     10\u001b[0m     \u001b[0mpredict\u001b[0m\u001b[0;34m[\u001b[0m\u001b[0mi\u001b[0m\u001b[0;34m,\u001b[0m\u001b[0;34m:\u001b[0m\u001b[0;34m,\u001b[0m\u001b[0;36m3\u001b[0m\u001b[0;34m:\u001b[0m\u001b[0;36m5\u001b[0m\u001b[0;34m]\u001b[0m \u001b[0;34m=\u001b[0m \u001b[0mnp\u001b[0m\u001b[0;34m.\u001b[0m\u001b[0mtranspose\u001b[0m\u001b[0;34m(\u001b[0m\u001b[0mvel\u001b[0m\u001b[0;34m[\u001b[0m\u001b[0;36m0\u001b[0m\u001b[0;34m]\u001b[0m\u001b[0;34m)\u001b[0m\u001b[0;34m\u001b[0m\u001b[0;34m\u001b[0m\u001b[0m\n",
      "\u001b[0;31mNameError\u001b[0m: name 'Rr_data' is not defined"
     ]
    }
   ],
   "source": [
    "# Make Prediction\n",
    "raw_data = get_simulation(No)\n",
    "predict = np.zeros((Nt, No, Ds),dtype=float)\n",
    "\n",
    "ts_loss = 0\n",
    "predict[0] = raw_data[0]\n",
    "for i in range(1,Nt):\n",
    "    loss, vel = sess.run([mse, P], feed_dict={O:[np.transpose(raw_data[i-1])], Rr:[Rr_data[0]],\n",
    "        Rs:[Rs_data[0]], Ra:[Ra_data[0]],X:[X_data[0]], P_label:[np.transpose(raw_data[i,:,3:5])]})\n",
    "    predict[i,:,3:5] = np.transpose(vel[0])\n",
    "    predict[i,:,1:3] = predict[i-1,:,1:3] + predict[i,:,3:5]*Dt\n",
    "    ts_loss += loss \n",
    "print(\"Test MSE: \"+ str(ts_loss))"
   ]
  },
  {
   "cell_type": "code",
   "execution_count": null,
   "metadata": {},
   "outputs": [],
   "source": [
    "# Plot actual and predicted trajectories\n",
    "colors = ['k','r','g','b','c','m']\n",
    "fig, ax = plt.subplots(1,2,figsize=(14,5))\n",
    "for i in range(len(raw_data)):\n",
    "    if i%10 != 0: continue\n",
    "    for j in range(raw_data.shape[1]):\n",
    "        ax[0].scatter(raw_data[i,j,1], raw_data[i,j,2], color=colors[j%len(colors)])\n",
    "        ax[1].scatter(predict[i,j,1], predict[i,j,2], color=colors[j%len(colors)])\n",
    "ax[0].set_title(\"Actual trajactories\")\n",
    "ax[1].set_title(\"Predicted trajactories\")\n",
    "plt.show()"
   ]
  },
  {
   "cell_type": "code",
   "execution_count": null,
   "metadata": {},
   "outputs": [],
   "source": []
  },
  {
   "cell_type": "code",
   "execution_count": null,
   "metadata": {},
   "outputs": [],
   "source": []
  }
 ],
 "metadata": {
  "kernelspec": {
   "display_name": "Python 3",
   "language": "python",
   "name": "python3"
  },
  "language_info": {
   "codemirror_mode": {
    "name": "ipython",
    "version": 3
   },
   "file_extension": ".py",
   "mimetype": "text/x-python",
   "name": "python",
   "nbconvert_exporter": "python",
   "pygments_lexer": "ipython3",
   "version": "3.7.3"
  }
 },
 "nbformat": 4,
 "nbformat_minor": 2
}
