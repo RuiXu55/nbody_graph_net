{
 "cells": [
  {
   "cell_type": "markdown",
   "metadata": {},
   "source": [
    "## N-body graph networks for Peter W. Battaglia et. al, 2016"
   ]
  },
  {
   "cell_type": "code",
   "execution_count": 1,
   "metadata": {},
   "outputs": [],
   "source": [
    "import warnings\n",
    "import math, copy\n",
    "import numpy as np\n",
    "import tensorflow as tf\n",
    "import matplotlib.pyplot as plt\n",
    "%matplotlib inline\n",
    "warnings.filterwarnings(\"ignore\") \n",
    "from sklearn.model_selection import ShuffleSplit"
   ]
  },
  {
   "cell_type": "code",
   "execution_count": 2,
   "metadata": {},
   "outputs": [],
   "source": [
    "# Simulation parameters\n",
    "Nt = 1000 #  number of time steps\n",
    "G = 1 # gravitational constaNt\n",
    "Dt = 0.01 # time step\n",
    "\n",
    "# Graph network parameters\n",
    "Ds = 5 # number of features [mass, x, y, vx, vy]\n",
    "No = 6 # number of objects\n",
    "Nr = No*(No-1) # number of relations\n",
    "Dr = 1 # relationship dimension\n",
    "Dx = 1 # external effect dimension\n",
    "De = 50 # effect dimension\n",
    "Dp = 2 # object modeling output dimension"
   ]
  },
  {
   "cell_type": "code",
   "execution_count": 3,
   "metadata": {},
   "outputs": [],
   "source": [
    "# Nbody Simulation System\n",
    "\n",
    "def cal_force(reciever,sender):\n",
    "    \"\"\" calculate force between two objects\n",
    "    \"\"\"\n",
    "    diff = sender[1:3]-reciever[1:3]\n",
    "    dist = np.sqrt(np.sum(diff**2))\n",
    "    return G*reciever[0]*sender[0]/(max(0.1, dist)**3)*diff\n",
    " \n",
    "def next_step(cur_state,n_body):\n",
    "    \"\"\" update positions & velocities after Dt\n",
    "    \"\"\"\n",
    "    next_state = np.zeros((n_body,Ds),dtype=float)\n",
    "    for i in range(n_body):\n",
    "        force = 0.0\n",
    "        for j in range(n_body):\n",
    "            if j==i: continue\n",
    "            force += cal_force(cur_state[i],cur_state[j]) \n",
    "        acc = force/cur_state[i][0]\n",
    "        next_state[i][0] = cur_state[i][0];\n",
    "        next_state[i][3:5] = cur_state[i][3:5]+acc*Dt;\n",
    "        next_state[i][1:3] = cur_state[i][1:3]+next_state[i][3:5]*Dt;\n",
    "    return next_state;\n",
    "\n",
    "def simulation(n_body):\n",
    "    \"\"\" generate a n-body simulation\n",
    "    \"\"\"\n",
    "    data = np.zeros((Nt,n_body,Ds),dtype=float)\n",
    "    data[0][0] = [5, 0, 0, 0, 0.]\n",
    "    for i in range(1,n_body):\n",
    "        data[0][i][0] = np.random.rand()+1.0\n",
    "        dist = np.random.rand()*10.0 \n",
    "        theta_rad = math.radians(np.random.rand()*360.)\n",
    "        data[0][i][1] = dist*np.cos(theta_rad)\n",
    "        data[0][i][2] = dist*np.sin(theta_rad)\n",
    "        data[0][i][3] = -np.cos(theta_rad)*np.sqrt(G*(data[0][0][0]+data[0][i][0])/dist)\n",
    "        data[0][i][4] = np.sin(theta_rad)*np.sqrt(G*(data[0][0][0]+data[0][i][0])/dist)\n",
    "    for i in range(1,Nt):\n",
    "        data[i]=next_step(data[i-1],n_body);\n",
    "    return data"
   ]
  },
  {
   "cell_type": "code",
   "execution_count": 12,
   "metadata": {},
   "outputs": [
    {
     "data": {
      "image/png": "[encoded data removed]",
      "text/plain": [
       "<Figure size 432x288 with 1 Axes>"
      ]
     },
     "metadata": {
      "needs_background": "light"
     },
     "output_type": "display_data"
    }
   ],
   "source": [
    "# An example of Nbody system: No is the number of objects\n",
    "xy = simulation(No)[:, :, 1:3]\n",
    "color=['ro','bo','go','ko','yo','mo','co']\n",
    "for i in range(len(xy)):\n",
    "    if i%10 != 0: continue\n",
    "    for j in range(xy.shape[1]):\n",
    "        plt.plot(xy[i,j,1], xy[i,j,0], color[j%len(color)])"
   ]
  },
  {
   "cell_type": "code",
   "execution_count": 5,
   "metadata": {},
   "outputs": [],
   "source": [
    "# Data Preparation for graph-net\n",
    "\n",
    "set_num = 10\n",
    "train_data = np.zeros(((Nt-1)*set_num, Ds, No), dtype=object)\n",
    "train_label = np.zeros(((Nt-1)*set_num, Dp, No), dtype=object)\n",
    "\n",
    "# use the information from current step to predict the velocity\n",
    "# of the future step\n",
    "for i in range(set_num):\n",
    "    raw_data = simulation(No)\n",
    "    data = np.zeros((Nt-1, Ds, No), dtype=object)\n",
    "    label = np.zeros((Nt-1, Dp, No), dtype=object)\n",
    "    for j in range(Nt-1):\n",
    "        data[j] = np.transpose(raw_data[j])\n",
    "        label[j] = np.transpose(raw_data[j+1,:, 3:5])\n",
    "    train_data[i*(Nt-1):(i+1)*(Nt-1),:] = data\n",
    "    train_label[i*(Nt-1):(i+1)*(Nt-1),:] = label\n",
    "\n"
   ]
  },
  {
   "cell_type": "code",
   "execution_count": 6,
   "metadata": {},
   "outputs": [],
   "source": [
    "# Construct graph-network\n",
    "# IN(G) = phi_O(a(G, X, phi_R(m(G))))\n",
    "\n",
    "def m(O,Rr,Rs,Ra):\n",
    "    \"\"\" Marshalling function, rearranges the objects and relations into\n",
    "    interaction terms.\n",
    "    Output dimension: (2*Ds + Dr)*Nr\n",
    "    \"\"\"\n",
    "    return tf.concat([(tf.matmul(O,Rr)-tf.matmul(O,Rs)),Ra],1)\n",
    "  \n",
    "def phi_R(B):\n",
    "    \"\"\" B is input to phi_R, which applies an MLP to each column.\n",
    "    Output is a distributed represeNtation of the relation with size De.\n",
    "    Ouput dimension: De * Nr\n",
    "    \"\"\"\n",
    "    B_trans = tf.transpose(B, [0, 2, 1])\n",
    "    B_trans = tf.reshape(B_trans, [-1, Ds+Dr])\n",
    "    \n",
    "    h_size = 100\n",
    "    w1 = tf.Variable(tf.truncated_normal([Ds+Dr, h_size], stddev=0.1), dtype=tf.float32)\n",
    "    b1 = tf.Variable(tf.zeros([h_size]), dtype=tf.float32)\n",
    "    h1 = tf.nn.relu(tf.matmul(B_trans, w1) + b1)\n",
    "    \n",
    "    w2 = tf.Variable(tf.truncated_normal([h_size, h_size], stddev=0.1), dtype=tf.float32)\n",
    "    b2 = tf.Variable(tf.zeros([h_size]), dtype=tf.float32)\n",
    "    h2 = tf.nn.relu(tf.matmul(h1, w2) + b2)\n",
    "    \n",
    "    w3 = tf.Variable(tf.truncated_normal([h_size, h_size], stddev=0.1), dtype=tf.float32)\n",
    "    b3 = tf.Variable(tf.zeros([h_size]), dtype=tf.float32)\n",
    "    h3 = tf.nn.relu(tf.matmul(h2, w3) + b3)\n",
    "    \n",
    "    w4 = tf.Variable(tf.truncated_normal([h_size, De], stddev=0.1), dtype=tf.float32)\n",
    "    b4 = tf.Variable(tf.zeros([De]), dtype=tf.float32)\n",
    "    h4 = tf.nn.relu(tf.matmul(h3, w4) + b4)\n",
    "    \n",
    "    h4_trans = tf.reshape(h4, [-1, Nr, De])\n",
    "    h4_trans = tf.transpose(h4_trans,[0,2,1])\n",
    "    return h4_trans\n",
    "\n",
    "def a(O, Rr, X, E):\n",
    "    \"\"\" Aggregation function: collects all effects that apply to each receiver\n",
    "    object, merges them, and combine them with O and X to form a set of object model \n",
    "    inputs, one per object. No columns represeNt the object states, external effects, \n",
    "    and per-object aggregate iNteraction effects.\n",
    "    Output dimension: C = (Ds+Dx+De)*No\n",
    "    \"\"\"\n",
    "    E_bar = tf.matmul(E, tf.transpose(Rr, [0,2,1]))\n",
    "    O_2 = tf.stack(tf.unstack(O, Ds, 1)[3:5],1)\n",
    "    return tf.concat([O_2,X,E_bar],1)\n",
    "\n",
    "def phi_O(C):\n",
    "    \"\"\"C applies to another MLP, to each of the No columns.\n",
    "    Output size: Dp.\n",
    "    \"\"\"\n",
    "    C_trans=tf.transpose(C,[0,2,1]);\n",
    "    C_trans=tf.reshape(C_trans,[-1,2+Dx+De])\n",
    "    \n",
    "    h_size=100\n",
    "    w1 = tf.Variable(tf.truncated_normal([2+Dx+De, h_size], stddev=0.1), dtype=tf.float32)\n",
    "    b1 = tf.Variable(tf.zeros([h_size]), dtype=tf.float32)\n",
    "    h1 = tf.nn.relu(tf.matmul(C_trans, w1) + b1)\n",
    "    \n",
    "    w2 = tf.Variable(tf.truncated_normal([h_size,Dp], stddev=0.1), dtype=tf.float32)\n",
    "    b2 = tf.Variable(tf.zeros([Dp]), dtype=tf.float32)\n",
    "    h2 = tf.matmul(h1, w2) + b2\n",
    "    \n",
    "    h2_trans=tf.reshape(h2,[-1, No, Dp])\n",
    "    h2_trans=tf.transpose(h2_trans,[0,2,1])\n",
    "    return h2_trans\n"
   ]
  },
  {
   "cell_type": "code",
   "execution_count": 7,
   "metadata": {},
   "outputs": [
    {
     "name": "stdout",
     "output_type": "stream",
     "text": [
      "WARNING:tensorflow:From /anaconda3/lib/python3.7/site-packages/tensorflow/python/framework/op_def_library.py:263: colocate_with (from tensorflow.python.framework.ops) is deprecated and will be removed in a future version.\n",
      "Instructions for updating:\n",
      "Colocations handled automatically by placer.\n"
     ]
    }
   ],
   "source": [
    "# Object Matrix\n",
    "O = tf.placeholder(tf.float32, [None, Ds, No])\n",
    "\n",
    "# Relation Matrics R=<Rr,Rs,Ra>\n",
    "Rr = tf.placeholder(tf.float32, [None, No, Nr])\n",
    "Rs = tf.placeholder(tf.float32, [None, No, Nr])\n",
    "Ra = tf.placeholder(tf.float32, [None, Dr, Nr])\n",
    "\n",
    "# next velocities\n",
    "P_label = tf.placeholder(tf.float32, [None, Dp, No])\n",
    "\n",
    "# External Effects\n",
    "X = tf.placeholder(tf.float32, [None, Dx, No])\n",
    "\n",
    "# marshalling function, m(G)=B, G=<O,R>  \n",
    "B = m(O, Rr, Rs, Ra)\n",
    "\n",
    "# relational modeling phi_R(B)=E\n",
    "E = phi_R(B)\n",
    "\n",
    "# aggregator\n",
    "C = a(O, Rr, X, E)\n",
    "\n",
    "# object modeling phi_O(C)=P\n",
    "P = phi_O(C)"
   ]
  },
  {
   "cell_type": "code",
   "execution_count": null,
   "metadata": {},
   "outputs": [
    {
     "name": "stdout",
     "output_type": "stream",
     "text": [
      "Epochs: 0 Training MSE: 0.16813687408664618 Validation MSE: 0.10463417259355386\n",
      "Epochs: 5 Training MSE: 0.04052248930775497 Validation MSE: 0.03979010755817095\n",
      "Epochs: 10 Training MSE: 0.025281323912931256 Validation MSE: 0.024915087114398677\n",
      "Epochs: 15 Training MSE: 0.0195912349572682 Validation MSE: 0.0220718093138809\n"
     ]
    }
   ],
   "source": [
    "# loss function and optimizer\n",
    "optimizer = tf.train.AdamOptimizer(0.001)\n",
    "mse = tf.reduce_mean(tf.reduce_mean(tf.square(P-P_label), [1,2]))\n",
    "for param in tf.global_variables():\n",
    "    mse += 0.001*tf.nn.l2_loss(param)\n",
    "trainer = optimizer.minimize(mse)\n",
    "\n",
    "# Set up mini-batch for Rr_data, Rs_data, Ra_data and X_data\n",
    "mini_batch = 40\n",
    "Rr_data = np.zeros((mini_batch, No, Nr), dtype=float)\n",
    "Rs_data = np.zeros((mini_batch, No, Nr), dtype=float)\n",
    "Ra_data = np.zeros((mini_batch, Dr, Nr), dtype=float) \n",
    "X_data = np.zeros((mini_batch, Dx, No), dtype=float)\n",
    "\n",
    "# add relations for different nodes\n",
    "count = 0\n",
    "for i in range(No):\n",
    "    for j in range(No):\n",
    "        if i==j: continue\n",
    "        Rr_data[:, i, count] = 1.0\n",
    "        Rs_data[:, j, count] = 1.0\n",
    "        count += 1\n",
    "        \n",
    "# Training\n",
    "sess = tf.InteractiveSession()\n",
    "tf.global_variables_initializer().run()\n",
    "\n",
    "rs = ShuffleSplit(n_splits=100, test_size=0.1, random_state=0)\n",
    "for i, (tr_idx, val_idx) in enumerate(rs.split(train_data)):\n",
    "    # training/validation split\n",
    "    tr_data, tr_label  = train_data[tr_idx], train_label[tr_idx]\n",
    "    val_data, val_label = train_data[val_idx], train_label[val_idx] \n",
    "    \n",
    "    # training\n",
    "    tr_loss=0\n",
    "    for j in range(int(len(tr_data)/mini_batch)):\n",
    "        loss, _ = sess.run([mse, trainer], feed_dict = {O: tr_data[j*mini_batch:(j+1)*mini_batch], \\\n",
    "            Rr:Rr_data, Rs:Rs_data, Ra:Ra_data, P_label: tr_label[j*mini_batch:(j+1)*mini_batch], X:X_data})\n",
    "        tr_loss += loss\n",
    "        \n",
    "    # validation\n",
    "    val_loss=0\n",
    "    for j in range(int(len(val_data)/mini_batch)):\n",
    "        loss, _ = sess.run([mse, P], feed_dict ={O: val_data[j*mini_batch:(j+1)*mini_batch], \\\n",
    "            Rr:Rr_data, Rs:Rs_data, Ra:Ra_data, P_label:val_label[j*mini_batch:(j+1)*mini_batch], X:X_data})\n",
    "        val_loss += loss\n",
    "        \n",
    "    if i%5==0:\n",
    "        print(\"Epochs: \"+str(i)+\" Training MSE: \"+ str(tr_loss/(int(len(train_data)/mini_batch))) \\\n",
    "              +\" Validation MSE: \" + str(val_loss/(j+1)))\n"
   ]
  },
  {
   "cell_type": "code",
   "execution_count": null,
   "metadata": {},
   "outputs": [],
   "source": [
    "# Make Prediction\n",
    "raw_data = simulation(No)\n",
    "predict = np.zeros((Nt, No, Ds),dtype=float)\n",
    "\n",
    "ts_loss = 0\n",
    "predict[0] = raw_data[0]\n",
    "for i in range(1,Nt):\n",
    "    loss, vel = sess.run([mse, P], feed_dict={O:[np.transpose(raw_data[i-1])], Rr:[Rr_data[0]],\n",
    "        Rs:[Rs_data[0]], Ra:[Ra_data[0]],X:[X_data[0]], P_label:[np.transpose(raw_data[i,:,3:5])]})\n",
    "    predict[i,:,3:5] = np.transpose(vel[0])\n",
    "    predict[i,:,1:3] = predict[i-1,:,1:3] + predict[i,:,3:5]*Dt\n",
    "    ts_loss += loss \n",
    "print(\"Test MSE: \"+ str(ts_loss))"
   ]
  },
  {
   "cell_type": "code",
   "execution_count": null,
   "metadata": {},
   "outputs": [],
   "source": [
    "# Plot actual and predicted trajectories\n",
    "colors = ['k','r','g','b','c','m']\n",
    "fig, ax = plt.subplots(1,2,figsize=(14,5))\n",
    "for i in range(len(raw_data)):\n",
    "    if i%10 != 0: continue\n",
    "    for j in range(raw_data.shape[1]):\n",
    "        ax[0].scatter(raw_data[i,j,1], raw_data[i,j,2], color=colors[j%len(colors)])\n",
    "        ax[1].scatter(predict[i,j,1], predict[i,j,2], color=colors[j%len(colors)])\n",
    "ax[0].set_title(\"Actual trajactories\")\n",
    "ax[1].set_title(\"Predicted trajactories\")\n",
    "plt.show()"
   ]
  },
  {
   "cell_type": "code",
   "execution_count": null,
   "metadata": {},
   "outputs": [],
   "source": []
  },
  {
   "cell_type": "code",
   "execution_count": null,
   "metadata": {},
   "outputs": [],
   "source": []
  }
 ],
 "metadata": {
  "kernelspec": {
   "display_name": "Python 3",
   "language": "python",
   "name": "python3"
  },
  "language_info": {
   "codemirror_mode": {
    "name": "ipython",
    "version": 3
   },
   "file_extension": ".py",
   "mimetype": "text/x-python",
   "name": "python",
   "nbconvert_exporter": "python",
   "pygments_lexer": "ipython3",
   "version": "3.7.1"
  }
 },
 "nbformat": 4,
 "nbformat_minor": 2
}
