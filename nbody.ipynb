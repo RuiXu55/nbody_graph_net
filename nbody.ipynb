{
 "cells": [
  {
   "cell_type": "markdown",
   "metadata": {},
   "source": [
    "## N-body graph networks for Peter W. Battaglia et. al, 2016"
   ]
  },
  {
   "cell_type": "code",
   "execution_count": 13,
   "metadata": {},
   "outputs": [],
   "source": [
    "import math, copy\n",
    "import numpy as np\n",
    "import tensorflow as tf\n",
    "import matplotlib.pyplot as plt\n",
    "from sklearn.model_selection import train_test_split\n",
    "%matplotlib inline"
   ]
  },
  {
   "cell_type": "code",
   "execution_count": 14,
   "metadata": {},
   "outputs": [],
   "source": [
    "# Simulation parameters\n",
    "total_state = 1000 #  number of time steps\n",
    "fea_num = 5 # number of features [mass,x,y,x_vel,y_vel]\n",
    "G = 1 # gravitational constant\n",
    "diff_t = 0.01 # time step\n",
    "\n",
    "# Graph network parameters\n",
    "Ds = 5 # the state dimension\n",
    "No = 6 # the number of objects\n",
    "Nr = 30 # the number of relations\n",
    "Dr = 1 # the relationship dimension\n",
    "Dx = 1 # the external effect dimension\n",
    "De = 50 # the effect dimension\n",
    "Dp = 2 # the object modeling output dimension\n",
    "Da = 1 # the abstract modeling output dimension"
   ]
  },
  {
   "cell_type": "code",
   "execution_count": 15,
   "metadata": {},
   "outputs": [],
   "source": [
    "# Nbody Simulation System\n",
    "\n",
    "def cal_force(reciever,sender):\n",
    "    \"\"\" calculate force between two objects\n",
    "    \"\"\"\n",
    "    diff = sender[1:3]-reciever[1:3]\n",
    "    dist = np.sqrt(np.sum(diff**2))\n",
    "    return G*reciever[0]*sender[0]/(max(0.1, dist)**3)*diff\n",
    " \n",
    "def next_step(cur_state,n_body):\n",
    "    \"\"\" update positions & velocities after diff_t\n",
    "    \"\"\"\n",
    "    next_state = np.zeros((n_body,fea_num),dtype=float)\n",
    "    for i in range(n_body):\n",
    "        force = 0.0\n",
    "        for j in range(n_body):\n",
    "            if j==i: continue\n",
    "            force += cal_force(cur_state[i],cur_state[j]) \n",
    "        acc = force/cur_state[i][0]\n",
    "        next_state[i][0] = cur_state[i][0];\n",
    "        next_state[i][3:5] = cur_state[i][3:5]+acc*diff_t;\n",
    "        next_state[i][1:3] = cur_state[i][1:3]+next_state[i][3:5]*diff_t;\n",
    "    return next_state;\n",
    "\n",
    "def simulation(n_body):\n",
    "    \"\"\" generate a n-body simulation\n",
    "    \"\"\"\n",
    "    data=np.zeros((total_state,n_body,fea_num),dtype=float)\n",
    "    data[0][0] = [5, 0, 0, 0, 0.]\n",
    "    for i in range(1,n_body):\n",
    "        data[0][i][0] = np.random.rand()+1.0\n",
    "        dist = np.random.rand()*10.0 \n",
    "        theta_rad = math.radians(np.random.rand()*360.)\n",
    "        data[0][i][1] = dist*np.cos(theta_rad)\n",
    "        data[0][i][2] = dist*np.sin(theta_rad)\n",
    "        data[0][i][3] = -np.cos(theta_rad)*np.sqrt(G*(data[0][0][0]+data[0][i][0])/dist)\n",
    "        data[0][i][4] = np.sin(theta_rad)*np.sqrt(G*(data[0][0][0]+data[0][i][0])/dist)\n",
    "    for i in range(1,total_state):\n",
    "        data[i]=next_step(data[i-1],n_body);\n",
    "    return data"
   ]
  },
  {
   "cell_type": "code",
   "execution_count": 16,
   "metadata": {},
   "outputs": [
    {
     "data": {
      "image/png": "[encoded data removed]",
      "text/plain": [
       "<Figure size 432x288 with 1 Axes>"
      ]
     },
     "metadata": {
      "needs_background": "light"
     },
     "output_type": "display_data"
    }
   ],
   "source": [
    "# An example of Nbody system: No-> number of objects\n",
    "xy = simulation(No)[:, :, 1:3]\n",
    "color=['ro','bo','go','ko','yo','mo','co']\n",
    "for i in range(len(xy)):\n",
    "    if i%10 != 0: continue\n",
    "    for j in range(xy.shape[1]):\n",
    "        plt.plot(xy[i,j,1], xy[i,j,0], color[j%len(color)])"
   ]
  },
  {
   "cell_type": "code",
   "execution_count": 17,
   "metadata": {},
   "outputs": [],
   "source": [
    "# Data Preparation for graph-net\n",
    "\n",
    "set_num = 10\n",
    "total_data = np.zeros(((total_state-1)*set_num, Ds, No), dtype=object)\n",
    "total_label = np.zeros(((total_state-1)*set_num, Dp, No), dtype=object)\n",
    "for i in range(set_num):\n",
    "    raw_data = simulation(No)\n",
    "    data = np.zeros((total_state-1, Ds, No), dtype=object)\n",
    "    label = np.zeros((total_state-1, Dp, No), dtype=object)\n",
    "    for j in range(total_state-1):\n",
    "        data[j] = np.transpose(raw_data[j])\n",
    "        label[j] = np.transpose(raw_data[j+1,:,3:5])\n",
    "    total_data[i*(total_state-1):(i+1)*(total_state-1),:] = data\n",
    "    total_label[i*(total_state-1):(i+1)*(total_state-1),:] = label\n",
    "\n",
    "# Training/Validation/Test Split\n",
    "train_data, test_data, train_label, test_label = train_test_split(total_data, \n",
    "                        total_label, test_size=0.1, shuffle=True)\n",
    "train_data, val_data, train_label, val_label = train_test_split(train_data, \n",
    "                        train_label, test_size=0.1, shuffle=True)\n",
    "\n",
    "\n",
    "mini_batch = 100\n",
    "# Set Rr_data, Rs_data, Ra_data and X_data\n",
    "Rr_data = np.zeros((mini_batch, No, Nr), dtype=float)\n",
    "Rs_data = np.zeros((mini_batch, No, Nr), dtype=float)\n",
    "Ra_data = np.zeros((mini_batch, Dr, Nr), dtype=float) \n",
    "X_data = np.zeros((mini_batch, Dx, No), dtype=float)\n",
    "\n",
    "cnt=0\n",
    "for i in range(No):\n",
    "    for j in range(No):\n",
    "        if i==j: continue\n",
    "        Rr_data[:, i, cnt] = 1.0\n",
    "        Rs_data[:, j, cnt] = 1.0\n",
    "        cnt += 1\n"
   ]
  },
  {
   "cell_type": "code",
   "execution_count": 18,
   "metadata": {},
   "outputs": [],
   "source": [
    "# Construct graph-network\n",
    "# IN(G) = phi_O(a(G, X, phi_R(m(G))))\n",
    "\n",
    "def m(O,Rr,Rs,Ra):\n",
    "    \"\"\" Marshalling function, rearranges the objects and relations into\n",
    "    interaction terms.\n",
    "    Output dimension: (2*Ds + Dr)*Nr\n",
    "    \"\"\"\n",
    "    return tf.concat([(tf.matmul(O,Rr)-tf.matmul(O,Rs)),Ra],1)\n",
    "  \n",
    "def phi_R(B):\n",
    "    \"\"\" B is input to phi_R, which applies an MLP to each column.\n",
    "    Output is a distributed representation of the relation with size De.\n",
    "    Ouput dimension: De * Nr\n",
    "    \"\"\"\n",
    "    B_trans = tf.transpose(B, [0, 2, 1])\n",
    "    B_trans = tf.reshape(B_trans, [-1, Ds+Dr])\n",
    "    \n",
    "    h_size = 100\n",
    "    w1 = tf.Variable(tf.truncated_normal([Ds+Dr, h_size], stddev=0.1), dtype=tf.float32)\n",
    "    b1 = tf.Variable(tf.zeros([h_size]), dtype=tf.float32)\n",
    "    h1 = tf.nn.relu(tf.matmul(B_trans, w1) + b1)\n",
    "    \n",
    "    w2 = tf.Variable(tf.truncated_normal([h_size, h_size], stddev=0.1), dtype=tf.float32)\n",
    "    b2 = tf.Variable(tf.zeros([h_size]), dtype=tf.float32)\n",
    "    h2 = tf.nn.relu(tf.matmul(h1, w2) + b2)\n",
    "    \n",
    "    w3 = tf.Variable(tf.truncated_normal([h_size, h_size], stddev=0.1), dtype=tf.float32)\n",
    "    b3 = tf.Variable(tf.zeros([h_size]), dtype=tf.float32)\n",
    "    h3 = tf.nn.relu(tf.matmul(h2, w3) + b3)\n",
    "    \n",
    "    w4 = tf.Variable(tf.truncated_normal([h_size, h_size], stddev=0.1), dtype=tf.float32)\n",
    "    b4 = tf.Variable(tf.zeros([h_size]), dtype=tf.float32)\n",
    "    h4 = tf.nn.relu(tf.matmul(h3, w4) + b4)\n",
    "    \n",
    "    w5 = tf.Variable(tf.truncated_normal([h_size, De], stddev=0.1), dtype=tf.float32)\n",
    "    b5 = tf.Variable(tf.zeros([De]), dtype=tf.float32)\n",
    "    h5 = tf.matmul(h4, w5) + b5\n",
    "    \n",
    "    h5_trans=tf.reshape(h5,[-1, Nr, De])\n",
    "    h5_trans=tf.transpose(h5_trans,[0,2,1])\n",
    "    return (h5_trans)\n",
    "\n",
    "def a(O,Rr,X,E):\n",
    "    \"\"\" Aggregation function: collects all effects that apply to each receiver\n",
    "    object, merges them, and combine them with O and X to form a set of object model \n",
    "    inputs, one per object. No columns represent the object states, external effects, \n",
    "    and per-object aggregate interaction effects.\n",
    "    Output dimension: (Ds+Dx+De)*No\n",
    "    \"\"\"\n",
    "    E_bar=tf.matmul(E,tf.transpose(Rr,[0,2,1]));\n",
    "    O_2=tf.stack(tf.unstack(O, Ds,1)[3:5],1);\n",
    "    return (tf.concat([O_2,X,E_bar],1));\n",
    "\n",
    "def phi_O(C):\n",
    "    \"\"\"C applies to another MLP, to each of the No columns.\n",
    "    Output size: Dp.\n",
    "    \"\"\"\n",
    "    C_trans=tf.transpose(C,[0,2,1]);\n",
    "    C_trans=tf.reshape(C_trans,[-1,2+Dx+De])\n",
    "    \n",
    "    h_size=100\n",
    "    w1 = tf.Variable(tf.truncated_normal([(2+Dx+De), h_size], stddev=0.1),dtype=tf.float32)\n",
    "    b1 = tf.Variable(tf.zeros([h_size]), name=\"o_b1\", dtype=tf.float32)\n",
    "    h1 = tf.nn.relu(tf.matmul(C_trans, w1) + b1)\n",
    "    \n",
    "    w2 = tf.Variable(tf.truncated_normal([h_size,Dp], stddev=0.1),dtype=tf.float32)\n",
    "    b2 = tf.Variable(tf.zeros([Dp]), dtype=tf.float32)\n",
    "    h2 = tf.matmul(h1, w2) + b2\n",
    "    \n",
    "    h2_trans=tf.reshape(h2,[-1, No, Dp])\n",
    "    h2_trans=tf.transpose(h2_trans,[0,2,1])\n",
    "    return(h2_trans)\n",
    "\n",
    "def phi_A(P):\n",
    "    \"\"\" To infer abstract properties of a system, an additional phi_A is appended.\n",
    "    which represents an abstract, global property of the system\n",
    "    \"\"\"\n",
    "    p_bar = tf.reduce_sum(P,2)\n",
    "    \n",
    "    h_size=25\n",
    "    w1 = tf.Variable(tf.truncated_normal([Dp, h_size], stddev=0.1), dtype=tf.float32)\n",
    "    b1 = tf.Variable(tf.zeros([h_size]), dtype=tf.float32)\n",
    "    h1 = tf.nn.relu(tf.matmul(p_bar, w1) + b1)\n",
    "    \n",
    "    w2 = tf.Variable(tf.truncated_normal([h_size,  Da], stddev=0.1), dtype=tf.float32)\n",
    "    b2 = tf.Variable(tf.zeros([Da]), dtype=tf.float32)\n",
    "    h2 = tf.matmul(h1, w2) + b2\n",
    "    return (h2)\n",
    "  "
   ]
  },
  {
   "cell_type": "code",
   "execution_count": 19,
   "metadata": {},
   "outputs": [],
   "source": [
    "# Object Matrix\n",
    "O = tf.placeholder(tf.float32, [None,Ds,No], name=\"O\")\n",
    "\n",
    "# Relation Matrics R=<Rr,Rs,Ra>\n",
    "Rr = tf.placeholder(tf.float32, [None,No,Nr], name=\"Rr\")\n",
    "Rs = tf.placeholder(tf.float32, [None,No,Nr], name=\"Rs\")\n",
    "Ra = tf.placeholder(tf.float32, [None,Dr,Nr], name=\"Ra\")\n",
    "\n",
    "# next velocities\n",
    "P_label = tf.placeholder(tf.float32, [None,Dp,No], name=\"P_label\")\n",
    "\n",
    "# External Effects\n",
    "X = tf.placeholder(tf.float32, [None,Dx,No], name=\"X\")\n",
    "\n",
    "# marshalling function, m(G)=B, G=<O,R>  \n",
    "B = m(O, Rr, Rs, Ra)\n",
    "\n",
    "# relational modeling phi_R(B)=E\n",
    "E = phi_R(B)\n",
    "\n",
    "# aggregator\n",
    "C = a(O, Rr, X, E)\n",
    "\n",
    "# object modeling phi_O(C)=P\n",
    "P = phi_O(C)\n",
    "\n",
    "# abstract modeling phi_A(P)=q\n",
    "#q=phi_A(P)"
   ]
  },
  {
   "cell_type": "code",
   "execution_count": 22,
   "metadata": {},
   "outputs": [
    {
     "name": "stdout",
     "output_type": "stream",
     "text": [
      "Epoch 1 Training MSE: 0.4911743771284819 Validation MSE: 0.07673922098345226\n",
      "Epoch 2 Training MSE: 0.058627260476350786 Validation MSE: 0.05432876116699643\n",
      "Epoch 3 Training MSE: 0.047870791517198086 Validation MSE: 0.04772976371977064\n",
      "Epoch 4 Training MSE: 0.04328696571756154 Validation MSE: 0.04417807960675822\n",
      "Epoch 5 Training MSE: 0.04067574255168438 Validation MSE: 0.04289037444525295\n",
      "Epoch 6 Training MSE: 0.038698469288647175 Validation MSE: 0.041180822170443006\n",
      "Epoch 7 Training MSE: 0.03706012390321121 Validation MSE: 0.0401110015809536\n",
      "Epoch 8 Training MSE: 0.03631664637941867 Validation MSE: 0.038250204589631825\n",
      "Epoch 9 Training MSE: 0.035239277756772935 Validation MSE: 0.03764044431348642\n",
      "Epoch 10 Training MSE: 0.03452633771812543 Validation MSE: 0.03679161601596408\n"
     ]
    }
   ],
   "source": [
    "# loss and optimizer\n",
    "params_list = tf.global_variables()\n",
    "mse = tf.reduce_mean(tf.reduce_mean(tf.square(P-P_label), [1,2]))\n",
    "\n",
    "loss = 0.001*tf.nn.l2_loss(E)\n",
    "for param in params_list:\n",
    "    loss += 0.001*tf.nn.l2_loss(param)\n",
    "    \n",
    "optimizer = tf.train.AdamOptimizer(0.001)\n",
    "trainer = optimizer.minimize(mse + loss)\n",
    "\n",
    "# Training\n",
    "max_epoches = 10\n",
    "\n",
    "sess = tf.Session()\n",
    "tf.global_variables_initializer().run()\n",
    "\n",
    "\n",
    "for i in range(max_epoches):\n",
    "    tr_loss=0;\n",
    "    for j in range(int(len(train_data)/mini_batch)):\n",
    "        batch_data = train_data[j*mini_batch:(j+1)*mini_batch]\n",
    "        batch_label = train_label[j*mini_batch:(j+1)*mini_batch]\n",
    "        tr_loss_part, _= sess.run([mse,trainer], \\\n",
    "            feed_dict = {O:batch_data, Rr:Rr_data, Rs:Rs_data, \\\n",
    "                         Ra:Ra_data, P_label: batch_label,X:X_data});\n",
    "        tr_loss += tr_loss_part\n",
    "\n",
    "    train_idx = list(range(len(train_data)))\n",
    "    np.random.shuffle(train_idx)\n",
    "    train_data=train_data[train_idx]\n",
    "    train_label=train_label[train_idx]\n",
    "\n",
    "    val_loss=0\n",
    "    for j in range(int(len(val_data)/mini_batch)):\n",
    "        batch_data = val_data[j*mini_batch:(j+1)*mini_batch]\n",
    "        batch_label = val_label[j*mini_batch:(j+1)*mini_batch]\n",
    "        val_loss_part, estimated = sess.run([mse, P],\\\n",
    "            feed_dict ={O:batch_data, Rr:Rr_data, Rs:Rs_data, \\\n",
    "                       Ra:Ra_data, P_label:batch_label, X:X_data})\n",
    "        val_loss += val_loss_part\n",
    "\n",
    "    val_idx = list(range(len(val_data)))\n",
    "    np.random.shuffle(val_idx)\n",
    "    val_data = val_data[val_idx]\n",
    "    val_label = val_label[val_idx]\n",
    "    print(\"Epoch \"+str(i+1)+\" Training MSE: \"+str(tr_loss/(int(len(train_data)/mini_batch)))+\" Validation MSE: \"+str(val_loss/(j+1)));\n"
   ]
  },
  {
   "cell_type": "code",
   "execution_count": 35,
   "metadata": {},
   "outputs": [
    {
     "name": "stdout",
     "output_type": "stream",
     "text": [
      "Test Loss: 26.923588846810162\n"
     ]
    }
   ],
   "source": [
    "# Make Video\n",
    "frame_len = 300\n",
    "raw_data = simulation(No)\n",
    "xy_origin = copy.deepcopy(raw_data[:frame_len,:,1:3])\n",
    "\n",
    "estimated_data = np.zeros((frame_len, No, Ds),dtype=float)\n",
    "estimated_data[0] = raw_data[0]\n",
    "\n",
    "\n",
    "ts_loss=0;\n",
    "for i in range(1,frame_len):\n",
    "    ts_loss_part, velocities = sess.run([mse, P], \\\n",
    "        feed_dict={O:[np.transpose(raw_data[i-1])],Rr:[Rr_data[0]],Rs:[Rs_data[0]],\\\n",
    "                   Ra:[Ra_data[0]],X:[X_data[0]],P_label:[np.transpose(raw_data[i,:,3:5])]})\n",
    "\n",
    "    velocities = velocities[0]\n",
    "    estimated_data[i,:,0] = estimated_data[i-1][:,0]\n",
    "    estimated_data[i,:,3:5] = np.transpose(velocities)\n",
    "    estimated_data[i,:,1:3] = estimated_data[i-1,:,1:3] + estimated_data[i,:,3:5]*diff_t\n",
    "    \n",
    "    ts_loss += ts_loss_part\n",
    "xy_estimated = estimated_data[:,:,1:3]\n",
    "\n",
    "print(\"Test Loss: \"+str(ts_loss));\n"
   ]
  },
  {
   "cell_type": "code",
   "execution_count": 36,
   "metadata": {},
   "outputs": [
    {
     "data": {
      "image/png": "[encoded data removed]",
      "text/plain": [
       "<Figure size 432x288 with 1 Axes>"
      ]
     },
     "metadata": {
      "needs_background": "light"
     },
     "output_type": "display_data"
    }
   ],
   "source": [
    "fig = plt.figure()\n",
    "for i in range(len(xy_origin)):\n",
    "    for j in range(xy_origin.shape[1]):\n",
    "        plt.scatter(xy_origin[i,j,1],xy_origin[i,j,0]);"
   ]
  },
  {
   "cell_type": "code",
   "execution_count": 37,
   "metadata": {},
   "outputs": [
    {
     "data": {
      "image/png": "[encoded data removed]",
      "text/plain": [
       "<Figure size 432x288 with 1 Axes>"
      ]
     },
     "metadata": {
      "needs_background": "light"
     },
     "output_type": "display_data"
    }
   ],
   "source": [
    "fig = plt.figure()\n",
    "for i in range(len(xy_estimated)):\n",
    "    for j in range(xy_estimated.shape[1]):\n",
    "        plt.scatter(xy_estimated[i,j,1],xy_estimated[i,j,0]);"
   ]
  },
  {
   "cell_type": "code",
   "execution_count": null,
   "metadata": {},
   "outputs": [],
   "source": []
  }
 ],
 "metadata": {
  "kernelspec": {
   "display_name": "Python 3",
   "language": "python",
   "name": "python3"
  },
  "language_info": {
   "codemirror_mode": {
    "name": "ipython",
    "version": 3
   },
   "file_extension": ".py",
   "mimetype": "text/x-python",
   "name": "python",
   "nbconvert_exporter": "python",
   "pygments_lexer": "ipython3",
   "version": "3.7.1"
  }
 },
 "nbformat": 4,
 "nbformat_minor": 2
}
